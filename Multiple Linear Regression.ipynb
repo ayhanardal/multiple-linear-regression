{
 "cells": [
  {
   "cell_type": "code",
   "execution_count": 1,
   "metadata": {
    "datalore": {
     "hide_input_from_viewers": false,
     "hide_output_from_viewers": false,
     "node_id": "yTmhAtxNRS9FzTbL90wdm1",
     "report_properties": {
      "y": 0
     },
     "type": "CODE"
    }
   },
   "outputs": [],
   "source": [
    "# Library\n",
    "import pandas as pd\n",
    "import numpy as np\n",
    "import matplotlib.pyplot as plt\n",
    "plt.style.use('seaborn-whitegrid')\n",
    "\n",
    "from sklearn.model_selection import train_test_split\n",
    "from sklearn.linear_model import LinearRegression\n",
    "from sklearn.metrics import r2_score"
   ]
  },
  {
   "cell_type": "code",
   "execution_count": 2,
   "metadata": {
    "datalore": {
     "hide_input_from_viewers": false,
     "hide_output_from_viewers": false,
     "node_id": "7wYmvPENWvLyRFnYXjRS19",
     "report_properties": {
      "y": 6
     },
     "type": "CODE"
    }
   },
   "outputs": [
    {
     "data": {
      "text/html": [
       "<div>\n",
       "<style scoped>\n",
       "    .dataframe tbody tr th:only-of-type {\n",
       "        vertical-align: middle;\n",
       "    }\n",
       "\n",
       "    .dataframe tbody tr th {\n",
       "        vertical-align: top;\n",
       "    }\n",
       "\n",
       "    .dataframe thead th {\n",
       "        text-align: right;\n",
       "    }\n",
       "</style>\n",
       "<table border=\"1\" class=\"dataframe\">\n",
       "  <thead>\n",
       "    <tr style=\"text-align: right;\">\n",
       "      <th></th>\n",
       "      <th>age</th>\n",
       "      <th>sex</th>\n",
       "      <th>bmi</th>\n",
       "      <th>children</th>\n",
       "      <th>smoker</th>\n",
       "      <th>region</th>\n",
       "      <th>charges</th>\n",
       "    </tr>\n",
       "  </thead>\n",
       "  <tbody>\n",
       "    <tr>\n",
       "      <th>0</th>\n",
       "      <td>19</td>\n",
       "      <td>1</td>\n",
       "      <td>27.900</td>\n",
       "      <td>0</td>\n",
       "      <td>1</td>\n",
       "      <td>0</td>\n",
       "      <td>16884.92400</td>\n",
       "    </tr>\n",
       "    <tr>\n",
       "      <th>1</th>\n",
       "      <td>18</td>\n",
       "      <td>0</td>\n",
       "      <td>33.770</td>\n",
       "      <td>1</td>\n",
       "      <td>0</td>\n",
       "      <td>1</td>\n",
       "      <td>1725.55230</td>\n",
       "    </tr>\n",
       "    <tr>\n",
       "      <th>2</th>\n",
       "      <td>28</td>\n",
       "      <td>0</td>\n",
       "      <td>33.000</td>\n",
       "      <td>3</td>\n",
       "      <td>0</td>\n",
       "      <td>1</td>\n",
       "      <td>4449.46200</td>\n",
       "    </tr>\n",
       "    <tr>\n",
       "      <th>3</th>\n",
       "      <td>33</td>\n",
       "      <td>0</td>\n",
       "      <td>22.705</td>\n",
       "      <td>0</td>\n",
       "      <td>0</td>\n",
       "      <td>2</td>\n",
       "      <td>21984.47061</td>\n",
       "    </tr>\n",
       "    <tr>\n",
       "      <th>4</th>\n",
       "      <td>32</td>\n",
       "      <td>0</td>\n",
       "      <td>28.880</td>\n",
       "      <td>0</td>\n",
       "      <td>0</td>\n",
       "      <td>2</td>\n",
       "      <td>3866.85520</td>\n",
       "    </tr>\n",
       "  </tbody>\n",
       "</table>\n",
       "</div>"
      ],
      "text/plain": [
       "   age  sex     bmi  children  smoker  region      charges\n",
       "0   19    1  27.900         0       1       0  16884.92400\n",
       "1   18    0  33.770         1       0       1   1725.55230\n",
       "2   28    0  33.000         3       0       1   4449.46200\n",
       "3   33    0  22.705         0       0       2  21984.47061\n",
       "4   32    0  28.880         0       0       2   3866.85520"
      ]
     },
     "execution_count": 2,
     "metadata": {},
     "output_type": "execute_result"
    }
   ],
   "source": [
    "# Import Data\n",
    "INSURANCE = pd.read_csv('insurance.csv')\n",
    "df = INSURANCE.copy()\n",
    "df['sex'].replace(['female','male'], [1,0], inplace = True)\n",
    "df['smoker'].replace(['yes','no'], [1,0], inplace = True)\n",
    "df['region'].replace(['southwest','southeast','northwest','northeast'], [0,1,2,3], inplace = True)\n",
    "df.head()"
   ]
  },
  {
   "cell_type": "code",
   "execution_count": 3,
   "metadata": {
    "datalore": {
     "hide_input_from_viewers": false,
     "hide_output_from_viewers": false,
     "node_id": "L5KyTqSPteIaBoLCYpQPg5",
     "report_properties": {
      "y": 17
     },
     "type": "CODE"
    }
   },
   "outputs": [
    {
     "name": "stdout",
     "output_type": "stream",
     "text": [
      "age  -  False\n",
      "sex  -  False\n",
      "bmi  -  False\n",
      "children  -  False\n",
      "smoker  -  False\n",
      "region  -  False\n",
      "charges  -  False\n"
     ]
    }
   ],
   "source": [
    "# Check For Missing Values\n",
    "all_cols = df.columns\n",
    "for col in all_cols:\n",
    "    print(col, ' - ', df[col].isnull().values.any())"
   ]
  },
  {
   "cell_type": "code",
   "execution_count": 4,
   "metadata": {
    "datalore": {
     "hide_input_from_viewers": false,
     "hide_output_from_viewers": false,
     "node_id": "CItc751ALryxunJGFzY3an",
     "report_properties": {
      "y": 25
     },
     "type": "CODE"
    }
   },
   "outputs": [],
   "source": [
    "# Train-Test Split\n",
    "X = df.drop(columns='charges')\n",
    "y = df['charges']\n",
    "X_train, X_test, y_train, y_test = train_test_split(X, y,test_size= 0.3, random_state=42)"
   ]
  },
  {
   "cell_type": "code",
   "execution_count": 5,
   "metadata": {
    "datalore": {
     "hide_input_from_viewers": false,
     "hide_output_from_viewers": false,
     "node_id": "3Ro7guRMKWIi8Qu9lNRBvN",
     "report_properties": {
      "y": 29
     },
     "type": "CODE"
    }
   },
   "outputs": [
    {
     "name": "stdout",
     "output_type": "stream",
     "text": [
      "Regresscion Coefficients:  [  261.62568984  -109.64719595   344.54483066   424.37016596\n",
      " 23620.80252148   326.46262527] Intercept:  -13234.132002145212\n"
     ]
    }
   ],
   "source": [
    "# Linear Model Fitting\n",
    "lr = LinearRegression()\n",
    "lr.fit(X_train, y_train)\n",
    "    \n",
    "# Coefficients\n",
    "b0 = lr.intercept_\n",
    "b1 = lr.coef_\n",
    "print('Regresscion Coefficients: ', b1, 'Intercept: ', b0)"
   ]
  },
  {
   "cell_type": "code",
   "execution_count": 6,
   "metadata": {
    "datalore": {
     "hide_input_from_viewers": false,
     "hide_output_from_viewers": false,
     "node_id": "X3QhftZcIbpAMlIPfZsC8j",
     "report_properties": {
      "y": 37
     },
     "type": "CODE"
    }
   },
   "outputs": [
    {
     "data": {
      "image/png": "[encoded data removed]",
      "text/plain": [
       "<Figure size 1296x648 with 1 Axes>"
      ]
     },
     "metadata": {
      "needs_background": "light"
     },
     "output_type": "display_data"
    }
   ],
   "source": [
    "# Prediction\n",
    "y_pred_train = lr.predict(X_train)\n",
    "\n",
    "# Visualization\n",
    "plt.figure(figsize=(18,9))\n",
    "plt.scatter(y_train, y_pred_train)\n",
    "b1, b0 = np.polyfit(y_train, y_pred_train, 1)\n",
    "plt.plot(y_train, y_pred_train, 'yo', y_train, b1 * y_train + b0, 'k')\n",
    "plt.title('Train')\n",
    "plt.xlabel('Acutal Values')\n",
    "plt.ylabel('Predicted Values')\n",
    "plt.show()"
   ]
  },
  {
   "cell_type": "code",
   "execution_count": 7,
   "metadata": {
    "datalore": {
     "hide_input_from_viewers": false,
     "hide_output_from_viewers": false,
     "node_id": "QNi3JMJ60I4u1S0wg76zcZ",
     "report_properties": {
      "y": 56
     },
     "type": "CODE"
    }
   },
   "outputs": [
    {
     "data": {
      "text/plain": [
       "0.74225713201721"
      ]
     },
     "execution_count": 7,
     "metadata": {},
     "output_type": "execute_result"
    }
   ],
   "source": [
    "# Compatibility\n",
    "r2_score(y_train, y_pred_train)"
   ]
  },
  {
   "cell_type": "code",
   "execution_count": 8,
   "metadata": {
    "datalore": {
     "hide_input_from_viewers": false,
     "hide_output_from_viewers": false,
     "node_id": "TFPur462ShZOK0daViM0vh",
     "report_properties": {
      "y": 60
     },
     "type": "CODE"
    }
   },
   "outputs": [
    {
     "data": {
      "text/html": [
       "<div>\n",
       "<style scoped>\n",
       "    .dataframe tbody tr th:only-of-type {\n",
       "        vertical-align: middle;\n",
       "    }\n",
       "\n",
       "    .dataframe tbody tr th {\n",
       "        vertical-align: top;\n",
       "    }\n",
       "\n",
       "    .dataframe thead th {\n",
       "        text-align: right;\n",
       "    }\n",
       "</style>\n",
       "<table border=\"1\" class=\"dataframe\">\n",
       "  <thead>\n",
       "    <tr style=\"text-align: right;\">\n",
       "      <th></th>\n",
       "      <th>Predict</th>\n",
       "      <th>Actual</th>\n",
       "      <th>Bias</th>\n",
       "    </tr>\n",
       "  </thead>\n",
       "  <tbody>\n",
       "    <tr>\n",
       "      <th>332</th>\n",
       "      <td>14004.330056</td>\n",
       "      <td>13429.03540</td>\n",
       "      <td>575.294656</td>\n",
       "    </tr>\n",
       "    <tr>\n",
       "      <th>355</th>\n",
       "      <td>8310.087057</td>\n",
       "      <td>24603.04837</td>\n",
       "      <td>16292.961313</td>\n",
       "    </tr>\n",
       "    <tr>\n",
       "      <th>138</th>\n",
       "      <td>13374.561274</td>\n",
       "      <td>27322.73386</td>\n",
       "      <td>13948.172586</td>\n",
       "    </tr>\n",
       "    <tr>\n",
       "      <th>381</th>\n",
       "      <td>36327.829465</td>\n",
       "      <td>42303.69215</td>\n",
       "      <td>5975.862685</td>\n",
       "    </tr>\n",
       "    <tr>\n",
       "      <th>292</th>\n",
       "      <td>33793.087311</td>\n",
       "      <td>42112.23560</td>\n",
       "      <td>8319.148289</td>\n",
       "    </tr>\n",
       "  </tbody>\n",
       "</table>\n",
       "</div>"
      ],
      "text/plain": [
       "          Predict       Actual          Bias\n",
       "332  14004.330056  13429.03540    575.294656\n",
       "355   8310.087057  24603.04837  16292.961313\n",
       "138  13374.561274  27322.73386  13948.172586\n",
       "381  36327.829465  42303.69215   5975.862685\n",
       "292  33793.087311  42112.23560   8319.148289"
      ]
     },
     "execution_count": 8,
     "metadata": {},
     "output_type": "execute_result"
    }
   ],
   "source": [
    "# Actual-Predict Compare\n",
    "bias_train = pd.DataFrame({'Predict': y_pred_train, 'Actual': y_train, 'Bias': abs(y_pred_train - y_train)})\n",
    "bias_train.head()"
   ]
  },
  {
   "cell_type": "code",
   "execution_count": 9,
   "metadata": {
    "datalore": {
     "hide_input_from_viewers": false,
     "hide_output_from_viewers": false,
     "node_id": "sXC9ZzJQICaJyTsSs1l8RV",
     "report_properties": {
      "y": 69
     },
     "type": "CODE"
    }
   },
   "outputs": [
    {
     "data": {
      "image/png": "[encoded data removed]",
      "text/plain": [
       "<Figure size 1296x648 with 1 Axes>"
      ]
     },
     "metadata": {
      "needs_background": "light"
     },
     "output_type": "display_data"
    }
   ],
   "source": [
    "# Prediction\n",
    "y_pred_test = lr.predict(X_test)\n",
    "\n",
    "# Visualization\n",
    "plt.figure(figsize=(18,9))\n",
    "plt.scatter(y_test, y_pred_test)\n",
    "b1, b0 = np.polyfit(y_test, y_pred_test, 1)\n",
    "plt.plot(y_test, y_pred_test, 'yo', y_test, b1 * y_test + b0, 'k')\n",
    "plt.title('Test')\n",
    "plt.xlabel('Actual Values')\n",
    "plt.ylabel('Predicted Values')\n",
    "plt.show()"
   ]
  },
  {
   "cell_type": "code",
   "execution_count": 10,
   "metadata": {
    "datalore": {
     "hide_input_from_viewers": false,
     "hide_output_from_viewers": false,
     "node_id": "pmZS9PFofx4bXDatPxd5Om",
     "report_properties": {
      "y": 88
     },
     "type": "CODE"
    }
   },
   "outputs": [
    {
     "data": {
      "text/plain": [
       "0.7694415927057693"
      ]
     },
     "execution_count": 10,
     "metadata": {},
     "output_type": "execute_result"
    }
   ],
   "source": [
    "# Compatibility\n",
    "r2_score(y_test, y_pred_test)"
   ]
  },
  {
   "cell_type": "code",
   "execution_count": 11,
   "metadata": {
    "datalore": {
     "hide_input_from_viewers": false,
     "hide_output_from_viewers": false,
     "node_id": "ND35YSJCfZ6ZFI0F5k3dn1",
     "report_properties": {
      "y": 92
     },
     "type": "CODE"
    }
   },
   "outputs": [
    {
     "data": {
      "text/html": [
       "<div>\n",
       "<style scoped>\n",
       "    .dataframe tbody tr th:only-of-type {\n",
       "        vertical-align: middle;\n",
       "    }\n",
       "\n",
       "    .dataframe tbody tr th {\n",
       "        vertical-align: top;\n",
       "    }\n",
       "\n",
       "    .dataframe thead th {\n",
       "        text-align: right;\n",
       "    }\n",
       "</style>\n",
       "<table border=\"1\" class=\"dataframe\">\n",
       "  <thead>\n",
       "    <tr style=\"text-align: right;\">\n",
       "      <th></th>\n",
       "      <th>Predict</th>\n",
       "      <th>Actual</th>\n",
       "      <th>Bias</th>\n",
       "    </tr>\n",
       "  </thead>\n",
       "  <tbody>\n",
       "    <tr>\n",
       "      <th>764</th>\n",
       "      <td>8931.421164</td>\n",
       "      <td>9095.06825</td>\n",
       "      <td>163.647086</td>\n",
       "    </tr>\n",
       "    <tr>\n",
       "      <th>887</th>\n",
       "      <td>7070.906703</td>\n",
       "      <td>5272.17580</td>\n",
       "      <td>1798.730903</td>\n",
       "    </tr>\n",
       "    <tr>\n",
       "      <th>890</th>\n",
       "      <td>36937.080496</td>\n",
       "      <td>29330.98315</td>\n",
       "      <td>7606.097346</td>\n",
       "    </tr>\n",
       "    <tr>\n",
       "      <th>1293</th>\n",
       "      <td>9596.992144</td>\n",
       "      <td>9301.89355</td>\n",
       "      <td>295.098594</td>\n",
       "    </tr>\n",
       "    <tr>\n",
       "      <th>259</th>\n",
       "      <td>27008.354871</td>\n",
       "      <td>33750.29180</td>\n",
       "      <td>6741.936929</td>\n",
       "    </tr>\n",
       "  </tbody>\n",
       "</table>\n",
       "</div>"
      ],
      "text/plain": [
       "           Predict       Actual         Bias\n",
       "764    8931.421164   9095.06825   163.647086\n",
       "887    7070.906703   5272.17580  1798.730903\n",
       "890   36937.080496  29330.98315  7606.097346\n",
       "1293   9596.992144   9301.89355   295.098594\n",
       "259   27008.354871  33750.29180  6741.936929"
      ]
     },
     "execution_count": 11,
     "metadata": {},
     "output_type": "execute_result"
    }
   ],
   "source": [
    "# Actual-Predict Compare\n",
    "bias_test = pd.DataFrame({'Predict': y_pred_test, 'Actual': y_test, 'Bias': abs(y_pred_test - y_test)})\n",
    "bias_test.head()"
   ]
  }
 ],
 "metadata": {
  "datalore": {
   "base_environment": "default",
   "computation_mode": "JUPYTER",
   "package_manager": "pip",
   "packages": [],
   "version": 1
  },
  "kernelspec": {
   "display_name": "Python 3",
   "language": "python",
   "name": "python3"
  },
  "language_info": {
   "codemirror_mode": {
    "name": "ipython",
    "version": 3
   },
   "file_extension": ".py",
   "mimetype": "text/x-python",
   "name": "python",
   "nbconvert_exporter": "python",
   "pygments_lexer": "ipython3",
   "version": "3.10.6"
  },
  "vscode": {
   "interpreter": {
    "hash": "dbfe95458841b10c5503170e9f0d10fb177744f1a4707aea5d8301d4bc3d0bc8"
   }
  }
 },
 "nbformat": 4,
 "nbformat_minor": 4
}
